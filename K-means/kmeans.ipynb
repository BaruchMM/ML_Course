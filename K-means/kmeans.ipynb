{
 "cells": [
  {
   "cell_type": "markdown",
   "metadata": {},
   "source": [
    "## K-means como ejemplo de aprendizaje no supervisado\n",
    "\n",
    "K-means es un ejemplo de algoritmos de aprendizaje no supervisado.\n",
    "\n",
    "En este tipo de algoritmos los puntos no tienen una etiqueta inicial de pertenencia a clases, es decir, no tenemos forma de comparar los resultados de los algoritmos con datos reales.\n",
    "\n",
    "Con estos algoritmos podemos encontrar patrones o prototipos (centros de los grupos) que ayuden a entender la estructura de los datos.\n",
    "\n",
    "Viendo los puntos a simple vista podríamos observar comportamientos o grupos (siempre y cuando estén en una dimensión visualizable por nosotros), pero cuando la dimensión de los puntos es mayor a 3 esto se vuelve más difícil.\n",
    "\n",
    "A este algoritmo le debemos especificar la cantidad de grupos que queremos formar.\n",
    "\n",
    "## Algoritmo\n",
    "\n",
    "- Tenemos que elegir un número k (número de grupos que queremos encontrar)\n",
    "- Elegimos k centros aleatorios (del conjunto de puntos)\n",
    "- Ciclo:\n",
    "\t- Asignamos cada punto al grupo del centro más cercano\n",
    "\t- Calculamos el nuevo centro como la media de cada grupo\n",
    "- Iterar hasta que la posición de los centros no cambien (por ahora no usaremos un criterio de este tipo, solo iteraremos 10 veces)"
   ]
  },
  {
   "cell_type": "code",
   "execution_count": 77,
   "metadata": {},
   "outputs": [],
   "source": [
    "import numpy as np\n",
    "import matplotlib.pyplot as plt\n",
    "import random as rn\n",
    "import imageio\n",
    "import os"
   ]
  },
  {
   "cell_type": "code",
   "execution_count": 78,
   "metadata": {},
   "outputs": [],
   "source": [
    "def distance(p,ps):\n",
    "    return np.sum((ps-p)**2,axis=1)"
   ]
  },
  {
   "cell_type": "code",
   "execution_count": 79,
   "metadata": {},
   "outputs": [],
   "source": [
    "def graf_pt(data):\n",
    "    plt.scatter(data.T[0],data.T[1])\n",
    "    plt.xlim((-1.5,1.5))\n",
    "    plt.ylim((-1.5,1.5))\n"
   ]
  },
  {
   "cell_type": "code",
   "execution_count": 80,
   "metadata": {},
   "outputs": [],
   "source": [
    "def scatter_clusters(clusters, centroids): \n",
    "    fig, ax= plt.subplots(figsize=(8,5), dpi=150)\n",
    "    for i in range(len(clusters)):\n",
    "        ax.scatter(clusters[i].T[0],clusters[i].T[1])\n",
    "    ax.scatter(centroids.T[0], centroids.T[1], color=\"k\")\n",
    "    ax.set_xlim((-1.5,1.5))\n",
    "    ax.set_ylim((-1.5,1.5))\n",
    "    "
   ]
  },
  {
   "cell_type": "code",
   "execution_count": 81,
   "metadata": {},
   "outputs": [],
   "source": [
    "def kmeans(data,k):\n",
    "    centroids = data[rn.sample(range(len(data)),k)]\n",
    "    \n",
    "    filenames = []\n",
    "    for j in range(10):\n",
    "        # compute distances to centroids\n",
    "        dists = np.array([distance(centroids[i],data) for i in range(k)])\n",
    "        \n",
    "        # list of clusters\n",
    "        clusters = [np.zeros(len(data[0])) for i in range(k)]\n",
    "        for i in range(len(data)):\n",
    "            clusters[int(np.argmin(dists.T[i]))] = np.vstack([clusters[int(np.argmin(dists.T[i]))],data[i]])\n",
    "        clusters = [clusters[i][1:] for i in range(k)]\n",
    "        \n",
    "        # plot the clusters and save the figures\n",
    "        scatter_clusters(clusters,centroids)\n",
    "        plt.text(-1.45,1.35,f\"Iteration: {j+1}\")\n",
    "        filename = f'{j}.png'\n",
    "        filenames.append(filename)\n",
    "        plt.savefig(filename)\n",
    "        plt.close()\n",
    "        \n",
    "        # compute new centroids\n",
    "        centroids = np.array([clusters[i].mean(axis=0) for i in range(k)])\n",
    "    \n",
    "    # build gif\n",
    "    with imageio.get_writer('k-means.gif', mode='I') as writer:\n",
    "        for filename in filenames:\n",
    "            image = imageio.imread(filename)\n",
    "            for i in range(4):\n",
    "                writer.append_data(image)\n",
    "    # Remove files\n",
    "    for filename in set(filenames):\n",
    "        os.remove(filename)\n"
   ]
  },
  {
   "cell_type": "code",
   "execution_count": 82,
   "metadata": {},
   "outputs": [
    {
     "name": "stderr",
     "output_type": "stream",
     "text": [
      "C:\\Users\\tu_rk\\AppData\\Local\\Temp\\ipykernel_13592\\2567848497.py:29: DeprecationWarning: Starting with ImageIO v3 the behavior of this function will switch to that of iio.v3.imread. To keep the current behavior (and make this warning dissapear) use `import imageio.v2 as imageio` or call `imageio.v2.imread` directly.\n",
      "  image = imageio.imread(filename)\n"
     ]
    }
   ],
   "source": [
    "# options\n",
    "n_true_clusters = 5\n",
    "dim = 2\n",
    "data = np.concatenate([np.random.normal(np.random.random(dim)*2-1,np.random.random(2)*0.2+0.1,[np.random.randint(50,100),dim]) for i in range(n_true_clusters)])\n",
    "\n",
    "k_clusters = 5\n",
    "kmeans(data,k_clusters)\n"
   ]
  },
  {
   "cell_type": "markdown",
   "metadata": {},
   "source": [
    "![](k-means.gif)"
   ]
  },
  {
   "cell_type": "code",
   "execution_count": null,
   "metadata": {},
   "outputs": [],
   "source": []
  }
 ],
 "metadata": {
  "kernelspec": {
   "display_name": "Python 3.9.6 ('base')",
   "language": "python",
   "name": "python3"
  },
  "language_info": {
   "codemirror_mode": {
    "name": "ipython",
    "version": 3
   },
   "file_extension": ".py",
   "mimetype": "text/x-python",
   "name": "python",
   "nbconvert_exporter": "python",
   "pygments_lexer": "ipython3",
   "version": "3.9.6"
  },
  "orig_nbformat": 4,
  "vscode": {
   "interpreter": {
    "hash": "fcb05f815e941727b76f3bbfc1f4eefbb66c73b96ba29b9bcf04d76f9d5316b2"
   }
  }
 },
 "nbformat": 4,
 "nbformat_minor": 2
}
