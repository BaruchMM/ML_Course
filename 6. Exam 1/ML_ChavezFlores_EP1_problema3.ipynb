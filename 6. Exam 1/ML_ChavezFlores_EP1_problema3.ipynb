{
  "nbformat": 4,
  "nbformat_minor": 0,
  "metadata": {
    "colab": {
      "provenance": [],
      "collapsed_sections": []
    },
    "kernelspec": {
      "name": "python3",
      "display_name": "Python 3"
    },
    "language_info": {
      "name": "python"
    }
  },
  "cells": [
    {
      "cell_type": "markdown",
      "source": [
        "# Ejercicio 3"
      ],
      "metadata": {
        "id": "vmGdNz6jiMKR"
      }
    },
    {
      "cell_type": "markdown",
      "source": [
        "El dataset3_train contiene 1000 vectores etiquetados. Las dos primeras columnas son las componentes de los vectores y la tercera columna las etiquetas correspondientes a 1 de 3 clases. Utilice estos 1000 puntos para construir un clasificador k-NN con k=3. Posteriormente, utilice los 200 puntos del dataset3_test para evaluar el clasificador entrenado. Muestre la matriz de confusión asociada a la evaluación de su clasificador y el reporte de clasificación que se obtiene con los 200 puntos de prueba. Añada la matriz de confusión y el reporte de clasificación en su archivo ML_Apellidos_EP1_resulados.PDF (valor 3 puntos)"
      ],
      "metadata": {
        "id": "ovgKprtfiMga"
      }
    },
    {
      "cell_type": "code",
      "source": [
        "import numpy as np\n",
        "import matplotlib.pyplot as plt\n",
        "from sklearn import neighbors"
      ],
      "metadata": {
        "id": "0EMmpBsqiWNe"
      },
      "execution_count": null,
      "outputs": []
    },
    {
      "cell_type": "code",
      "source": [
        "# Importamos los datos y los separamos en etiquetas y datos\n",
        "train = np.genfromtxt('dataset3_train.csv', delimiter=',')\n",
        "train_X = train.T[0:2].T\n",
        "train_y = train.T[2].T\n",
        "\n",
        "test = np.genfromtxt('dataset3_test.csv', delimiter=',')\n",
        "test_X = test.T[0:2].T\n",
        "test_y = test.T[2].T"
      ],
      "metadata": {
        "id": "sdO8xQ9vipfY"
      },
      "execution_count": null,
      "outputs": []
    },
    {
      "cell_type": "code",
      "source": [
        "miknn = neighbors.KNeighborsClassifier(3)\n",
        "miknn.fit(train_X, train_y)\n",
        "\n",
        "predicciones = miknn.predict(test_X)\n"
      ],
      "metadata": {
        "id": "1IqSowfHixTW"
      },
      "execution_count": null,
      "outputs": []
    },
    {
      "cell_type": "code",
      "source": [
        "# Imprimimos el reporte de clasificación y la matriz de confusion con ayuda del \n",
        "# codigo de ejemplo proporcionado\n",
        "ytest = test_y\n",
        "yfit = predicciones\n",
        "\n",
        "from sklearn.metrics import classification_report\n",
        "print(classification_report(ytest, yfit))"
      ],
      "metadata": {
        "colab": {
          "base_uri": "https://localhost:8080/"
        },
        "id": "Dy-hoQ38iyQ3",
        "outputId": "52e986e9-d7b6-4880-80de-6bf89ae06526"
      },
      "execution_count": null,
      "outputs": [
        {
          "output_type": "stream",
          "name": "stdout",
          "text": [
            "              precision    recall  f1-score   support\n",
            "\n",
            "         0.0       0.97      0.99      0.98        67\n",
            "         1.0       0.98      0.97      0.98        67\n",
            "         2.0       1.00      1.00      1.00        66\n",
            "\n",
            "    accuracy                           0.98       200\n",
            "   macro avg       0.99      0.99      0.99       200\n",
            "weighted avg       0.99      0.98      0.98       200\n",
            "\n"
          ]
        }
      ]
    },
    {
      "cell_type": "code",
      "source": [
        "import seaborn as sns   #Seaborn = Statistical data visualization\n",
        "sns.set()               #Asigna los valores default de Seaborn plotting\n",
        "from sklearn.metrics import confusion_matrix\n",
        "fig = plt.figure(figsize=(8,5), dpi = 120)\n",
        "mat = confusion_matrix(ytest, yfit)\n",
        "sns.heatmap(mat.T, square=True, annot=True, fmt='d', cbar=False)\n",
        "plt.xlabel('Etiqueta verdadera')\n",
        "plt.ylabel('Etiqueta predicha');"
      ],
      "metadata": {
        "colab": {
          "base_uri": "https://localhost:8080/",
          "height": 553
        },
        "id": "o_56UNi7kf8p",
        "outputId": "500c0627-df5d-4e49-a20e-b98ec8a12ba8"
      },
      "execution_count": null,
      "outputs": [
        {
          "output_type": "display_data",
          "data": {
            "text/plain": [
              "<Figure size 960x600 with 1 Axes>"
            ],
            "image/png": "[encoded data removed]"
          },
          "metadata": {}
        }
      ]
    },
    {
      "cell_type": "code",
      "source": [],
      "metadata": {
        "id": "1riSVed2livx"
      },
      "execution_count": null,
      "outputs": []
    }
  ]
}