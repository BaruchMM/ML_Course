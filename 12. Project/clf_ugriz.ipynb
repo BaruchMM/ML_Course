{
 "cells": [
  {
   "cell_type": "code",
   "execution_count": 7,
   "metadata": {},
   "outputs": [],
   "source": [
    "import numpy as np\n",
    "import matplotlib.pyplot as plt\n",
    "import pandas as pd\n",
    "from sklearn.model_selection import KFold\n",
    "from sklearn.neighbors import KNeighborsClassifier\n",
    "from sklearn.svm import SVC\n",
    "from sklearn.neural_network import MLPClassifier\n",
    "from sklearn.metrics import accuracy_score\n",
    "from sklearn.tree import DecisionTreeClassifier\n",
    "from sklearn.preprocessing import MinMaxScaler\n",
    "from sklearn.ensemble import RandomForestClassifier\n",
    "from sklearn.neighbors import NearestCentroid\n",
    "from sklearn.ensemble import AB\n",
    "from sklearn import tree\n",
    "from sklearn.linear_model import Ridge"
   ]
  },
  {
   "cell_type": "code",
   "execution_count": 8,
   "metadata": {},
   "outputs": [],
   "source": [
    "data = pd.read_csv(\"Skyserver_ugriz.csv\",header=1)\n",
    "y_true = data[\"class\"]\n",
    "data = data.iloc[:,0:5].to_numpy()\n",
    "\n",
    "# data resclaing\n",
    "min_max_scaler = MinMaxScaler()\n",
    "data = min_max_scaler.fit_transform(data)\n"
   ]
  },
  {
   "cell_type": "code",
   "execution_count": 9,
   "metadata": {},
   "outputs": [],
   "source": [
    "# import data\n",
    "n_datasets = 1\n",
    "data = [data]\n",
    "datasets_names = [\"Spectra\"]"
   ]
  },
  {
   "cell_type": "code",
   "execution_count": 12,
   "metadata": {},
   "outputs": [],
   "source": [
    "# make the classifiers list\n",
    "# KNeighborsClassifier(n_neighbors=3),\n",
    "#                KNeighborsClassifier(n_neighbors=5),\n",
    "classifiers =  [AdaBoostClassifier(n_estimators=1000,learning_rate=1),\n",
    "                AdaBoostClassifier(n_estimators=100,learning_rate=1),\n",
    "                AdaBoostClassifier(n_estimators=10,learning_rate=1),\n",
    "                AdaBoostClassifier(n_estimators=100,learning_rate=0),\n",
    "                AdaBoostClassifier(n_estimators=100,learning_rate=0.5),\n",
    "                AdaBoostClassifier(n_estimators=100,learning_rate=2),\n",
    "                RandomForestClassifier(max_depth=2, criterion='entropy'),\n",
    "                RandomForestClassifier(max_depth=4, criterion='entropy'),\n",
    "                RandomForestClassifier(max_depth=2,min_impurity_decrease = 0.2, criterion='entropy'),\n",
    "                RandomForestClassifier(max_depth=2,min_impurity_decrease = 0.8, criterion='entropy'),\n",
    "                tree.DecisionTreeClassifier(),\n",
    "                NearestCentroid(metric='minkowski'),\n",
    "                NearestCentroid(metric='wminkowski'),\n",
    "                NearestCentroid(metric='mahalanobis'),\n",
    "                Ridge(alpha=0),\n",
    "                Ridge(alpha=1.0),\n",
    "                Ridge(alpha=10),\n",
    "                Ridge(solver = 'svd'),\n",
    "                Ridge(solver = 'cholesky'),\n",
    "                Ridge(solver = 'saga'),\n",
    "                ]\n",
    "# classifiers = [MLPClassifier(hidden_layer_sizes=(4,2,), activation=\"logistic\", max_iter=10000, solver=\"lbfgs\", alpha=0.001),\n",
    "#                MLPClassifier(hidden_layer_sizes=(4,2,), activation=\"logistic\", max_iter=10000, solver=\"lbfgs\", alpha=0.005),\n",
    "#                MLPClassifier(hidden_layer_sizes=(8,4,), activation=\"logistic\", max_iter=10000, solver=\"lbfgs\", alpha=0.001),\n",
    "#                MLPClassifier(hidden_layer_sizes=(8,4,), activation=\"logistic\", max_iter=10000, solver=\"lbfgs\", alpha=0.005),\n",
    "#                MLPClassifier(hidden_layer_sizes=(8,4,), activation=\"logistic\", max_iter=10000, solver=\"lbfgs\", alpha=0.01),\n",
    "#                MLPClassifier(hidden_layer_sizes=(6,3,), activation=\"logistic\", max_iter=10000, solver=\"lbfgs\", alpha=0.001),\n",
    "#                MLPClassifier(hidden_layer_sizes=(6,3,), activation=\"logistic\", max_iter=10000, solver=\"lbfgs\", alpha=0.005),\n",
    "#                MLPClassifier(hidden_layer_sizes=(6,3,), activation=\"logistic\", max_iter=10000, solver=\"lbfgs\", alpha=0.01),\n",
    "#                MLPClassifier(hidden_layer_sizes=(12,6,), activation=\"logistic\", max_iter=10000, solver=\"lbfgs\", alpha=0.001),\n",
    "#                MLPClassifier(hidden_layer_sizes=(12,6,), activation=\"logistic\", max_iter=10000, solver=\"lbfgs\", alpha=0.005),\n",
    "#                MLPClassifier(hidden_layer_sizes=(12,6,), activation=\"logistic\", max_iter=10000, solver=\"lbfgs\", alpha=0.01),]\n",
    "\n",
    "n_classifiers = len(classifiers)\n",
    "\n",
    "classifiers_names = [\"AB e 1000 l 1)\",\n",
    "                    \"AB e 100,l 1)\",\n",
    "                    \"AB e 10 l 1)\",\n",
    "                    \"AB e 100 l 0)\",\n",
    "                    \"AB e 100 l 0.5)\",\n",
    "                    \"AB e 100 l 2)\",\n",
    "                    \"RFEnt max_depth=2\",\n",
    "                    \"RFEnt max_depth=4\",\n",
    "                    \"RFEnt md 2 mi 0.2\",\n",
    "                    \"RFEnt md 2 mi 0.8\",\n",
    "                    \"tree.DecisionTree\",\n",
    "                    \"NC metric='minkowski'\",\n",
    "                    \"NC metric='wminkowski'\",\n",
    "                    \"NC metric='mahalanobis'\",\n",
    "                    \"Ridge(alpha=0)\",\n",
    "                    \"Ridge(alpha=1.0)\",\n",
    "                    \"Ridge(alpha=10)\",\n",
    "                    \"Ridge(solver = 'svd')\",\n",
    "                    \"Ridge(solver = 'cholesky')\",\n",
    "                    \"Ridge(solver = 'saga')\"]"
   ]
  },
  {
   "cell_type": "code",
   "execution_count": 75,
   "metadata": {},
   "outputs": [],
   "source": [
    "# set the KFold object to compute the accuracies\n",
    "n_splits = 30\n",
    "kf = KFold(n_splits=n_splits)\n",
    "accuracy = np.zeros((n_datasets,n_classifiers))\n",
    "# iteration over datasets\n",
    "for i in range(n_datasets):\n",
    "  X = data[i]\n",
    "  y = y_true\n",
    "  # iteration over classifiers\n",
    "  for j in range(n_classifiers):\n",
    "    classifier = classifiers[j]  \n",
    "    accuracy_k = np.zeros(n_splits)\n",
    "    split_counter = 0\n",
    "    # iteration over splits\n",
    "    for train_index, test_index in kf.split(X):\n",
    "      X_train, X_test = X[train_index], X[test_index]\n",
    "      y_train, y_test = y[train_index], y[test_index]\n",
    "      # fiting the classifier\n",
    "      classifier.fit(X_train, y_train)\n",
    "      y_pred = classifier.predict(X_test)\n",
    "      # computing split accuracy\n",
    "      accuracy_k[split_counter] = accuracy_score(y_test, y_pred)\n",
    "      split_counter += 1\n",
    "    # compute the mean accuracy\n",
    "    accuracy[i][j] = np.sum(accuracy_k)/n_splits"
   ]
  },
  {
   "cell_type": "code",
   "execution_count": 76,
   "metadata": {},
   "outputs": [],
   "source": [
    "# save the accuracies computed\n",
    "accuracy = pd.DataFrame(accuracy,columns=classifiers_names, index=datasets_names)\n",
    "accuracy.to_csv(\"accuracy.csv\")"
   ]
  },
  {
   "cell_type": "code",
   "execution_count": 77,
   "metadata": {},
   "outputs": [
    {
     "data": {
      "text/html": [
       "<div>\n",
       "<style scoped>\n",
       "    .dataframe tbody tr th:only-of-type {\n",
       "        vertical-align: middle;\n",
       "    }\n",
       "\n",
       "    .dataframe tbody tr th {\n",
       "        vertical-align: top;\n",
       "    }\n",
       "\n",
       "    .dataframe thead th {\n",
       "        text-align: right;\n",
       "    }\n",
       "</style>\n",
       "<table border=\"1\" class=\"dataframe\">\n",
       "  <thead>\n",
       "    <tr style=\"text-align: right;\">\n",
       "      <th></th>\n",
       "      <th>MLP 4-2 0.001</th>\n",
       "    </tr>\n",
       "  </thead>\n",
       "  <tbody>\n",
       "    <tr>\n",
       "      <th>Spectra</th>\n",
       "      <td>0.768705</td>\n",
       "    </tr>\n",
       "  </tbody>\n",
       "</table>\n",
       "</div>"
      ],
      "text/plain": [
       "         MLP 4-2 0.001\n",
       "Spectra       0.768705"
      ]
     },
     "execution_count": 77,
     "metadata": {},
     "output_type": "execute_result"
    }
   ],
   "source": [
    "accuracy"
   ]
  },
  {
   "cell_type": "code",
   "execution_count": null,
   "metadata": {},
   "outputs": [],
   "source": []
  }
 ],
 "metadata": {
  "kernelspec": {
   "display_name": "Python 3.9.12 ('base')",
   "language": "python",
   "name": "python3"
  },
  "language_info": {
   "codemirror_mode": {
    "name": "ipython",
    "version": 3
   },
   "file_extension": ".py",
   "mimetype": "text/x-python",
   "name": "python",
   "nbconvert_exporter": "python",
   "pygments_lexer": "ipython3",
   "version": "3.9.12"
  },
  "orig_nbformat": 4,
  "vscode": {
   "interpreter": {
    "hash": "3a95b72ad26caed2f125c20bb8f543b875a0d1a71c369d3d6c01c0c3af4e63b9"
   }
  }
 },
 "nbformat": 4,
 "nbformat_minor": 2
}
