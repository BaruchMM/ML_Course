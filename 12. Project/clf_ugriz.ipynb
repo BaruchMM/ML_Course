{
 "cells": [
  {
   "cell_type": "code",
   "execution_count": 2,
   "metadata": {},
   "outputs": [
    {
     "name": "stderr",
     "output_type": "stream",
     "text": [
      "c:\\Users\\tu_rk\\miniconda3\\lib\\site-packages\\scipy\\__init__.py:146: UserWarning: A NumPy version >=1.16.5 and <1.23.0 is required for this version of SciPy (detected version 1.23.4\n",
      "  warnings.warn(f\"A NumPy version >={np_minversion} and <{np_maxversion}\"\n"
     ]
    }
   ],
   "source": [
    "import numpy as np\n",
    "import matplotlib.pyplot as plt\n",
    "import pandas as pd\n",
    "from sklearn.model_selection import KFold\n",
    "from sklearn.neighbors import KNeighborsClassifier\n",
    "from sklearn.svm import SVC\n",
    "from sklearn.neural_network import MLPClassifier\n",
    "from sklearn.metrics import accuracy_score\n",
    "from sklearn.tree import DecisionTreeClassifier\n",
    "from sklearn.preprocessing import MinMaxScaler"
   ]
  },
  {
   "cell_type": "code",
   "execution_count": 3,
   "metadata": {},
   "outputs": [],
   "source": [
    "data = pd.read_csv(\"Skyserver_ugriz.csv\",header=1)\n",
    "y_true = data[\"class\"]\n",
    "data = data.iloc[:,0:5].to_numpy()\n",
    "\n",
    "# data resclaing\n",
    "min_max_scaler = MinMaxScaler()\n",
    "data = min_max_scaler.fit_transform(data)\n"
   ]
  },
  {
   "cell_type": "code",
   "execution_count": 4,
   "metadata": {},
   "outputs": [],
   "source": [
    "# import data\n",
    "n_datasets = 1\n",
    "data = [data]\n",
    "datasets_names = [\"Spectra\"]"
   ]
  },
  {
   "cell_type": "code",
   "execution_count": 21,
   "metadata": {},
   "outputs": [],
   "source": [
    "# make the classifiers list\n",
    "# KNeighborsClassifier(n_neighbors=3),\n",
    "#                KNeighborsClassifier(n_neighbors=5),\n",
    "classifiers = [MLPClassifier(hidden_layer_sizes=(4,2,), activation=\"logistic\", max_iter=10000, solver=\"lbfgs\", alpha=0.001),\n",
    "               MLPClassifier(hidden_layer_sizes=(4,2,), activation=\"logistic\", max_iter=10000, solver=\"lbfgs\", alpha=0.005),\n",
    "               MLPClassifier(hidden_layer_sizes=(8,4,), activation=\"logistic\", max_iter=10000, solver=\"lbfgs\", alpha=0.001),\n",
    "               MLPClassifier(hidden_layer_sizes=(8,4,), activation=\"logistic\", max_iter=10000, solver=\"lbfgs\", alpha=0.005),\n",
    "               MLPClassifier(hidden_layer_sizes=(8,4,), activation=\"logistic\", max_iter=10000, solver=\"lbfgs\", alpha=0.01),\n",
    "               MLPClassifier(hidden_layer_sizes=(6,3,), activation=\"logistic\", max_iter=10000, solver=\"lbfgs\", alpha=0.001),\n",
    "               MLPClassifier(hidden_layer_sizes=(6,3,), activation=\"logistic\", max_iter=10000, solver=\"lbfgs\", alpha=0.005),\n",
    "               MLPClassifier(hidden_layer_sizes=(6,3,), activation=\"logistic\", max_iter=10000, solver=\"lbfgs\", alpha=0.01),\n",
    "               MLPClassifier(hidden_layer_sizes=(12,6,), activation=\"logistic\", max_iter=10000, solver=\"lbfgs\", alpha=0.001),\n",
    "               MLPClassifier(hidden_layer_sizes=(12,6,), activation=\"logistic\", max_iter=10000, solver=\"lbfgs\", alpha=0.005),\n",
    "               MLPClassifier(hidden_layer_sizes=(12,6,), activation=\"logistic\", max_iter=10000, solver=\"lbfgs\", alpha=0.01),]\n",
    "\n",
    "n_classifiers = len(classifiers)\n",
    "classifiers_names = [\"MLP 4-2 0.001\",\n",
    "                     \"MLP 4-2 0.005\",\n",
    "                     \"MLP 8-4 0.001\",\n",
    "                     \"MLP 8-4 0.005\",\n",
    "                     \"MLP 8-4 0.01\",\n",
    "                     \"MLP 6-3 0.001\",\n",
    "                     \"MLP 6-3 0.005\",\n",
    "                     \"MLP 6-3 0.01\",\n",
    "                     \"MLP 12-6 0.001\",\n",
    "                     \"MLP 12-6 0.005\",\n",
    "                     \"MLP 12-6 0.01\"]"
   ]
  },
  {
   "cell_type": "code",
   "execution_count": 22,
   "metadata": {},
   "outputs": [
    {
     "name": "stderr",
     "output_type": "stream",
     "text": [
      "c:\\Users\\tu_rk\\miniconda3\\lib\\site-packages\\sklearn\\neural_network\\_multilayer_perceptron.py:559: ConvergenceWarning: lbfgs failed to converge (status=1):\n",
      "STOP: TOTAL NO. of ITERATIONS REACHED LIMIT.\n",
      "\n",
      "Increase the number of iterations (max_iter) or scale the data as shown in:\n",
      "    https://scikit-learn.org/stable/modules/preprocessing.html\n",
      "  self.n_iter_ = _check_optimize_result(\"lbfgs\", opt_res, self.max_iter)\n",
      "c:\\Users\\tu_rk\\miniconda3\\lib\\site-packages\\sklearn\\neural_network\\_multilayer_perceptron.py:559: ConvergenceWarning: lbfgs failed to converge (status=1):\n",
      "STOP: TOTAL NO. of ITERATIONS REACHED LIMIT.\n",
      "\n",
      "Increase the number of iterations (max_iter) or scale the data as shown in:\n",
      "    https://scikit-learn.org/stable/modules/preprocessing.html\n",
      "  self.n_iter_ = _check_optimize_result(\"lbfgs\", opt_res, self.max_iter)\n",
      "c:\\Users\\tu_rk\\miniconda3\\lib\\site-packages\\sklearn\\neural_network\\_multilayer_perceptron.py:559: ConvergenceWarning: lbfgs failed to converge (status=2):\n",
      "ABNORMAL_TERMINATION_IN_LNSRCH.\n",
      "\n",
      "Increase the number of iterations (max_iter) or scale the data as shown in:\n",
      "    https://scikit-learn.org/stable/modules/preprocessing.html\n",
      "  self.n_iter_ = _check_optimize_result(\"lbfgs\", opt_res, self.max_iter)\n",
      "c:\\Users\\tu_rk\\miniconda3\\lib\\site-packages\\sklearn\\neural_network\\_multilayer_perceptron.py:559: ConvergenceWarning: lbfgs failed to converge (status=1):\n",
      "STOP: TOTAL NO. of ITERATIONS REACHED LIMIT.\n",
      "\n",
      "Increase the number of iterations (max_iter) or scale the data as shown in:\n",
      "    https://scikit-learn.org/stable/modules/preprocessing.html\n",
      "  self.n_iter_ = _check_optimize_result(\"lbfgs\", opt_res, self.max_iter)\n",
      "c:\\Users\\tu_rk\\miniconda3\\lib\\site-packages\\sklearn\\neural_network\\_multilayer_perceptron.py:559: ConvergenceWarning: lbfgs failed to converge (status=1):\n",
      "STOP: TOTAL NO. of ITERATIONS REACHED LIMIT.\n",
      "\n",
      "Increase the number of iterations (max_iter) or scale the data as shown in:\n",
      "    https://scikit-learn.org/stable/modules/preprocessing.html\n",
      "  self.n_iter_ = _check_optimize_result(\"lbfgs\", opt_res, self.max_iter)\n",
      "c:\\Users\\tu_rk\\miniconda3\\lib\\site-packages\\sklearn\\neural_network\\_multilayer_perceptron.py:559: ConvergenceWarning: lbfgs failed to converge (status=1):\n",
      "STOP: TOTAL NO. of ITERATIONS REACHED LIMIT.\n",
      "\n",
      "Increase the number of iterations (max_iter) or scale the data as shown in:\n",
      "    https://scikit-learn.org/stable/modules/preprocessing.html\n",
      "  self.n_iter_ = _check_optimize_result(\"lbfgs\", opt_res, self.max_iter)\n",
      "c:\\Users\\tu_rk\\miniconda3\\lib\\site-packages\\sklearn\\neural_network\\_multilayer_perceptron.py:559: ConvergenceWarning: lbfgs failed to converge (status=1):\n",
      "STOP: TOTAL NO. of ITERATIONS REACHED LIMIT.\n",
      "\n",
      "Increase the number of iterations (max_iter) or scale the data as shown in:\n",
      "    https://scikit-learn.org/stable/modules/preprocessing.html\n",
      "  self.n_iter_ = _check_optimize_result(\"lbfgs\", opt_res, self.max_iter)\n"
     ]
    }
   ],
   "source": [
    "# set the KFold object to compute the accuracies\n",
    "n_splits = 30\n",
    "kf = KFold(n_splits=n_splits)\n",
    "accuracy = np.zeros((n_datasets,n_classifiers))\n",
    "# iteration over datasets\n",
    "for i in range(n_datasets):\n",
    "  X = data[i]\n",
    "  y = y_true\n",
    "  # iteration over classifiers\n",
    "  for j in range(n_classifiers):\n",
    "    classifier = classifiers[j]  \n",
    "    accuracy_k = np.zeros(n_splits)\n",
    "    split_counter = 0\n",
    "    # iteration over splits\n",
    "    for train_index, test_index in kf.split(X):\n",
    "      X_train, X_test = X[train_index], X[test_index]\n",
    "      y_train, y_test = y[train_index], y[test_index]\n",
    "      # fiting the classifier\n",
    "      classifier.fit(X_train, y_train)\n",
    "      y_pred = classifier.predict(X_test)\n",
    "      # computing split accuracy\n",
    "      accuracy_k[split_counter] = accuracy_score(y_test, y_pred)\n",
    "      split_counter += 1\n",
    "    # compute the mean accuracy\n",
    "    accuracy[i][j] = np.sum(accuracy_k)/n_splits"
   ]
  },
  {
   "cell_type": "code",
   "execution_count": 23,
   "metadata": {},
   "outputs": [],
   "source": [
    "# save the accuracies computed\n",
    "accuracy = pd.DataFrame(accuracy,columns=classifiers_names, index=datasets_names)\n",
    "accuracy.to_csv(\"accuracy.csv\")"
   ]
  },
  {
   "cell_type": "code",
   "execution_count": 24,
   "metadata": {},
   "outputs": [
    {
     "data": {
      "text/html": [
       "<div>\n",
       "<style scoped>\n",
       "    .dataframe tbody tr th:only-of-type {\n",
       "        vertical-align: middle;\n",
       "    }\n",
       "\n",
       "    .dataframe tbody tr th {\n",
       "        vertical-align: top;\n",
       "    }\n",
       "\n",
       "    .dataframe thead th {\n",
       "        text-align: right;\n",
       "    }\n",
       "</style>\n",
       "<table border=\"1\" class=\"dataframe\">\n",
       "  <thead>\n",
       "    <tr style=\"text-align: right;\">\n",
       "      <th></th>\n",
       "      <th>MLP 4-2 0.001</th>\n",
       "      <th>MLP 4-2 0.005</th>\n",
       "      <th>MLP 4-2 0.01</th>\n",
       "      <th>MLP 8-4 0.001</th>\n",
       "      <th>MLP 8-4 0.005</th>\n",
       "      <th>MLP 8-4 0.01</th>\n",
       "      <th>MLP 6-3 0.001</th>\n",
       "      <th>MLP 6-3 0.005</th>\n",
       "      <th>MLP 6-3 0.01</th>\n",
       "      <th>MLP 12-6 0.001</th>\n",
       "      <th>MLP 12-6 0.005</th>\n",
       "      <th>MLP 12-6 0.01</th>\n",
       "    </tr>\n",
       "  </thead>\n",
       "  <tbody>\n",
       "    <tr>\n",
       "      <th>Spectra</th>\n",
       "      <td>0.9402</td>\n",
       "      <td>0.943599</td>\n",
       "      <td>0.895997</td>\n",
       "      <td>0.9487</td>\n",
       "      <td>0.9502</td>\n",
       "      <td>0.953</td>\n",
       "      <td>0.942401</td>\n",
       "      <td>0.9469</td>\n",
       "      <td>0.9526</td>\n",
       "      <td>0.9547</td>\n",
       "      <td>0.944701</td>\n",
       "      <td>0.9562</td>\n",
       "    </tr>\n",
       "  </tbody>\n",
       "</table>\n",
       "</div>"
      ],
      "text/plain": [
       "         MLP 4-2 0.001  MLP 4-2 0.005  MLP 4-2 0.01  MLP 8-4 0.001  \\\n",
       "Spectra         0.9402       0.943599      0.895997         0.9487   \n",
       "\n",
       "         MLP 8-4 0.005  MLP 8-4 0.01  MLP 6-3 0.001  MLP 6-3 0.005  \\\n",
       "Spectra         0.9502         0.953       0.942401         0.9469   \n",
       "\n",
       "         MLP 6-3 0.01  MLP 12-6 0.001  MLP 12-6 0.005  MLP 12-6 0.01  \n",
       "Spectra        0.9526          0.9547        0.944701         0.9562  "
      ]
     },
     "execution_count": 24,
     "metadata": {},
     "output_type": "execute_result"
    }
   ],
   "source": [
    "accuracy"
   ]
  },
  {
   "cell_type": "code",
   "execution_count": null,
   "metadata": {},
   "outputs": [],
   "source": []
  }
 ],
 "metadata": {
  "kernelspec": {
   "display_name": "Python 3.9.6 ('base')",
   "language": "python",
   "name": "python3"
  },
  "language_info": {
   "codemirror_mode": {
    "name": "ipython",
    "version": 3
   },
   "file_extension": ".py",
   "mimetype": "text/x-python",
   "name": "python",
   "nbconvert_exporter": "python",
   "pygments_lexer": "ipython3",
   "version": "3.9.6"
  },
  "orig_nbformat": 4,
  "vscode": {
   "interpreter": {
    "hash": "fcb05f815e941727b76f3bbfc1f4eefbb66c73b96ba29b9bcf04d76f9d5316b2"
   }
  }
 },
 "nbformat": 4,
 "nbformat_minor": 2
}
