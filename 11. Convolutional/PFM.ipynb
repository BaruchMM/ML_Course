{
 "cells": [
  {
   "cell_type": "code",
   "execution_count": 1,
   "metadata": {},
   "outputs": [
    {
     "name": "stderr",
     "output_type": "stream",
     "text": [
      "c:\\Users\\tu_rk\\miniconda3\\lib\\site-packages\\scipy\\__init__.py:146: UserWarning: A NumPy version >=1.16.5 and <1.23.0 is required for this version of SciPy (detected version 1.23.4\n",
      "  warnings.warn(f\"A NumPy version >={np_minversion} and <{np_maxversion}\"\n"
     ]
    }
   ],
   "source": [
    "# plot feature map of first conv layer for given image\n",
    "from keras.applications.vgg16 import VGG16\n",
    "from keras.applications.vgg16 import preprocess_input\n",
    "from keras.models import Model\n",
    "from matplotlib import pyplot\n",
    "from numpy import expand_dims\n",
    "\n",
    "#from keras.preprocessing.image import load_img\n",
    "#from keras.preprocessing.image import img_to_array\n",
    "\n",
    "from tensorflow.keras.utils import load_img \n",
    "from tensorflow.keras.utils import img_to_array\n",
    "from matplotlib.backends.backend_pdf import PdfPages"
   ]
  },
  {
   "cell_type": "code",
   "execution_count": 2,
   "metadata": {},
   "outputs": [
    {
     "name": "stdout",
     "output_type": "stream",
     "text": [
      "Model: \"model\"\n",
      "_________________________________________________________________\n",
      " Layer (type)                Output Shape              Param #   \n",
      "=================================================================\n",
      " input_1 (InputLayer)        [(None, 224, 224, 3)]     0         \n",
      "                                                                 \n",
      " block1_conv1 (Conv2D)       (None, 224, 224, 64)      1792      \n",
      "                                                                 \n",
      "=================================================================\n",
      "Total params: 1,792\n",
      "Trainable params: 1,792\n",
      "Non-trainable params: 0\n",
      "_________________________________________________________________\n"
     ]
    }
   ],
   "source": [
    "# load the model\n",
    "model = VGG16()\n",
    "\n",
    "# redefine model to output right after the first hidden layer\n",
    "model = Model(inputs=model.inputs, outputs=model.layers[1].output)\n",
    "model.summary()\n"
   ]
  },
  {
   "cell_type": "code",
   "execution_count": 9,
   "metadata": {},
   "outputs": [
    {
     "name": "stdout",
     "output_type": "stream",
     "text": [
      "1/1 [==============================] - 0s 32ms/step\n",
      "1/1 [==============================] - 0s 32ms/step\n"
     ]
    }
   ],
   "source": [
    "\n",
    "\n",
    "paths = ['bird.jpg','pilares.jpg']\n",
    "\n",
    "with PdfPages('filtros.pdf') as pdf:\n",
    "\tfor path in paths:\n",
    "  \t# load the image with the required shape\n",
    "\t\timg = load_img(path, target_size=(224, 224))\n",
    "\t\t# convert the image to an array\n",
    "\t\timg = img_to_array(img)\n",
    "\t\t# expand dimensions so that it represents a single 'sample'\n",
    "\t\timg = expand_dims(img, axis=0)\n",
    "\t\t## prepare the image (e.g. scale pixel values for the vgg)\n",
    "\t\timg = preprocess_input(img)\n",
    "\t\t# get feature map for first hidden layer\n",
    "\t\tfeature_maps = model.predict(img)\n",
    "\n",
    "\t\tsquare = 8\n",
    "\t\tix = 1\n",
    "\t\tfor i in range(square):\n",
    "\t\t\tfor j in range(square):\n",
    "\t\t\t\tfig, ax = pyplot.subplots(figsize=(8, 6), dpi=100)\n",
    "\t\t\t\tax.set_xticks([])\n",
    "\t\t\t\tax.set_yticks([])\n",
    "\t\t\t\t# plot filter channel in grayscale\n",
    "\t\t\t\tpyplot.imshow(feature_maps[0, :, :, ix-1], cmap='gray')\n",
    "\t\t\t\tpyplot.title(\"(\"+str(i+1)+','+str(j+1)+') '+path, fontsize=18)\n",
    "\t\t\t\tpdf.savefig(fig)\n",
    "\t\t\t\tpyplot.close()\n",
    "\t\t\t\tix += 1"
   ]
  },
  {
   "cell_type": "code",
   "execution_count": null,
   "metadata": {},
   "outputs": [],
   "source": []
  }
 ],
 "metadata": {
  "kernelspec": {
   "display_name": "Python 3.9.6 ('base')",
   "language": "python",
   "name": "python3"
  },
  "language_info": {
   "codemirror_mode": {
    "name": "ipython",
    "version": 3
   },
   "file_extension": ".py",
   "mimetype": "text/x-python",
   "name": "python",
   "nbconvert_exporter": "python",
   "pygments_lexer": "ipython3",
   "version": "3.9.6"
  },
  "orig_nbformat": 4,
  "vscode": {
   "interpreter": {
    "hash": "fcb05f815e941727b76f3bbfc1f4eefbb66c73b96ba29b9bcf04d76f9d5316b2"
   }
  }
 },
 "nbformat": 4,
 "nbformat_minor": 2
}
