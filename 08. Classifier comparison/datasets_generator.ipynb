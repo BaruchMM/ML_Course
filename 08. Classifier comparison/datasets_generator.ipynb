{
 "cells": [
  {
   "cell_type": "code",
   "execution_count": 14,
   "metadata": {},
   "outputs": [],
   "source": [
    "import numpy as np\n",
    "import matplotlib.pyplot as plt\n",
    "import pandas as pd\n",
    "from sklearn.datasets import make_blobs\n"
   ]
  },
  {
   "cell_type": "code",
   "execution_count": 20,
   "metadata": {},
   "outputs": [],
   "source": [
    "centers = [[0,0],[0,1],[1,0],[1,1]]\n",
    "X, y = make_blobs(400,2,centers = centers,cluster_std=0.1)\n",
    "y = np.array([1 if old == 3 else 0 for old in y])\n",
    "\n",
    "data = pd.DataFrame(X)\n",
    "data[\"y_true\"] = y\n",
    "\n",
    "data.to_csv(\"dataset_classifiers4.csv\")"
   ]
  },
  {
   "cell_type": "code",
   "execution_count": 21,
   "metadata": {},
   "outputs": [],
   "source": [
    "centers = [[0,0],[0,1],[1,0],[1,1]]\n",
    "X, y = make_blobs(400,2,centers = centers,cluster_std=0.1)\n",
    "y = np.array([1 if old == 2 or old == 1 else 0 for old in y])\n",
    "\n",
    "data = pd.DataFrame(X)\n",
    "data[\"y_true\"] = y\n",
    "\n",
    "data.to_csv(\"dataset_classifiers5.csv\")"
   ]
  },
  {
   "cell_type": "code",
   "execution_count": null,
   "metadata": {},
   "outputs": [],
   "source": []
  }
 ],
 "metadata": {
  "kernelspec": {
   "display_name": "Python 3.9.6 ('base')",
   "language": "python",
   "name": "python3"
  },
  "language_info": {
   "codemirror_mode": {
    "name": "ipython",
    "version": 3
   },
   "file_extension": ".py",
   "mimetype": "text/x-python",
   "name": "python",
   "nbconvert_exporter": "python",
   "pygments_lexer": "ipython3",
   "version": "3.9.6"
  },
  "orig_nbformat": 4,
  "vscode": {
   "interpreter": {
    "hash": "fcb05f815e941727b76f3bbfc1f4eefbb66c73b96ba29b9bcf04d76f9d5316b2"
   }
  }
 },
 "nbformat": 4,
 "nbformat_minor": 2
}
