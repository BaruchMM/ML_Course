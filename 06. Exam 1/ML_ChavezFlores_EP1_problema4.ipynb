{
  "nbformat": 4,
  "nbformat_minor": 0,
  "metadata": {
    "colab": {
      "provenance": [],
      "collapsed_sections": []
    },
    "kernelspec": {
      "name": "python3",
      "display_name": "Python 3"
    },
    "language_info": {
      "name": "python"
    }
  },
  "cells": [
    {
      "cell_type": "markdown",
      "source": [
        "# Ejercicio 4"
      ],
      "metadata": {
        "id": "b9NTzZVMltpJ"
      }
    },
    {
      "cell_type": "markdown",
      "source": [
        "Tome los puntos de las clases con etiquetas 1 y 2 del dataset3_train. Utilice estos puntos para entrenar un clasificador por Máquina de Soporte Vectorial de margen suave (SVC). Utilice un kernel RBF y como hiperparámetros un valor de C=10, gamma = 0.25. Posteriormente, utilice los puntos del dataset3_test que tienen las etiquetas de clase 1 y 2 para evaluar el clasificador entrenado. Muestre la matriz de confusión asociada a la evaluación de su clasificador y el reporte de clasificación que se obtiene con los puntos de prueba. Añada la matriz de confusión y el reporte de clasificación en su archivo ML_Apellidos_EP1_resulados.PDF (valor 3 puntos)."
      ],
      "metadata": {
        "id": "MYfc50ODltTg"
      }
    },
    {
      "cell_type": "code",
      "source": [
        "import numpy as np\n",
        "import matplotlib.pyplot as plt\n",
        "from sklearn import svm"
      ],
      "metadata": {
        "id": "wM8_tfeomG3N"
      },
      "execution_count": null,
      "outputs": []
    },
    {
      "cell_type": "code",
      "source": [
        "# Importamos los datos y separamos aquellos que usaremos (con etiqueta 1 o 2)\n",
        "train = np.genfromtxt('dataset3_train.csv', delimiter=',')\n",
        "seleccionados = np.array([train.T[2] == 1]) | np.array([train.T[2] == 2])\n",
        "train = train[seleccionados[0]]\n",
        "train_X = train.T[0:2].T\n",
        "train_y = train.T[2].T\n",
        "\n",
        "test = np.genfromtxt('dataset3_test.csv', delimiter=',')\n",
        "seleccionados = np.array([test.T[2] == 1]) | np.array([test.T[2] == 2])\n",
        "test = test[seleccionados[0]]\n",
        "test_X = test.T[0:2].T\n",
        "test_y = test.T[2].T"
      ],
      "metadata": {
        "id": "wcC9JvUUmG3O"
      },
      "execution_count": null,
      "outputs": []
    },
    {
      "cell_type": "code",
      "source": [
        "miSVC = svm.SVC(kernel = \"rbf\", C=10, gamma = 0.25)\n",
        "miSVC.fit(train_X, train_y)\n",
        "\n",
        "predicciones = miSVC.predict(test_X)\n"
      ],
      "metadata": {
        "id": "PfoC2ZgOoO3A"
      },
      "execution_count": null,
      "outputs": []
    },
    {
      "cell_type": "code",
      "source": [
        "# Imprimimos el reporte de clasificación y la matriz de confusion con ayuda del \n",
        "# codigo de ejemplo proporcionado\n",
        "ytest = test_y\n",
        "yfit = predicciones\n",
        "\n",
        "from sklearn.metrics import classification_report\n",
        "print(classification_report(ytest, yfit))"
      ],
      "metadata": {
        "colab": {
          "base_uri": "https://localhost:8080/"
        },
        "outputId": "962c777a-ad08-4bb8-f5c6-b153f72a5c84",
        "id": "UuXW6EwQryhZ"
      },
      "execution_count": null,
      "outputs": [
        {
          "output_type": "stream",
          "name": "stdout",
          "text": [
            "              precision    recall  f1-score   support\n",
            "\n",
            "         1.0       1.00      1.00      1.00        67\n",
            "         2.0       1.00      1.00      1.00        66\n",
            "\n",
            "    accuracy                           1.00       133\n",
            "   macro avg       1.00      1.00      1.00       133\n",
            "weighted avg       1.00      1.00      1.00       133\n",
            "\n"
          ]
        }
      ]
    },
    {
      "cell_type": "code",
      "source": [
        "import seaborn as sns   #Seaborn = Statistical data visualization\n",
        "sns.set()               #Asigna los valores default de Seaborn plotting\n",
        "from sklearn.metrics import confusion_matrix\n",
        "fig = plt.figure(figsize=(8,5), dpi = 120)\n",
        "mat = confusion_matrix(ytest, yfit)\n",
        "sns.heatmap(mat.T, square=True, annot=True, fmt='d', cbar=False)\n",
        "plt.xlabel('Etiqueta verdadera')\n",
        "plt.ylabel('Etiqueta predicha');"
      ],
      "metadata": {
        "colab": {
          "base_uri": "https://localhost:8080/",
          "height": 553
        },
        "outputId": "667e0261-0090-4293-8b2f-02cb3f3be591",
        "id": "qVJ4aMoxryhe"
      },
      "execution_count": null,
      "outputs": [
        {
          "output_type": "display_data",
          "data": {
            "text/plain": [
              "<Figure size 960x600 with 1 Axes>"
            ],
            "image/png": "[encoded data removed]"
          },
          "metadata": {}
        }
      ]
    },
    {
      "cell_type": "code",
      "source": [],
      "metadata": {
        "id": "S-XX5kaStevg"
      },
      "execution_count": null,
      "outputs": []
    }
  ]
}